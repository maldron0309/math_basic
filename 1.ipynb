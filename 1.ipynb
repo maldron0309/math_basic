{
  "nbformat": 4,
  "nbformat_minor": 0,
  "metadata": {
    "colab": {
      "provenance": [],
      "authorship_tag": "ABX9TyNbeP47Js5vStmpF3ZiMBkm",
      "include_colab_link": true
    },
    "kernelspec": {
      "name": "python3",
      "display_name": "Python 3"
    },
    "language_info": {
      "name": "python"
    }
  },
  "cells": [
    {
      "cell_type": "markdown",
      "metadata": {
        "id": "view-in-github",
        "colab_type": "text"
      },
      "source": [
        "<a href=\"https://colab.research.google.com/github/maldron0309/math_basic/blob/main/1.ipynb\" target=\"_parent\"><img src=\"https://colab.research.google.com/assets/colab-badge.svg\" alt=\"Open In Colab\"/></a>"
      ]
    },
    {
      "cell_type": "code",
      "execution_count": null,
      "metadata": {
        "colab": {
          "base_uri": "https://localhost:8080/"
        },
        "id": "phZSjN-Wyhdq",
        "outputId": "95237187-d043-4634-acc8-5266d27ac27d"
      },
      "outputs": [
        {
          "output_type": "stream",
          "name": "stderr",
          "text": [
            "<ipython-input-7-8df094e97386>:16: MatplotlibDeprecationWarning: The seaborn styles shipped by Matplotlib are deprecated since 3.6, as they no longer correspond to the styles shipped by seaborn. However, they will remain available as 'seaborn-v0_8-<style>'. Alternatively, directly use the seaborn API instead.\n",
            "  mpl.style.use('seaborn-whitegrid')\n"
          ]
        }
      ],
      "source": [
        "\n",
        "# 기본적인 import들\n",
        "# 이후 그래프 그리는 코드에는 중복으로 적지 않음.\n",
        "# 다른 곳으로 그래프 그리는 코드를 복사-붙이기 할 때는\n",
        "# 이 import 코드와 함께 복사-붙이기 해야함\n",
        "import numpy as np\n",
        "import matplotlib.pyplot as plt\n",
        "import matplotlib as mpl\n",
        "from mpl_toolkits import mplot3d\n",
        "import matplotlib.font_manager as mfm\n",
        "\n",
        "# numpy 출력 형식 지정\n",
        "np.set_printoptions(precision=4, linewidth=150)\n",
        "\n",
        "# matplotlib 스타일 지정\n",
        "mpl.style.use('bmh')\n",
        "mpl.style.use('seaborn-whitegrid')\n",
        "style = plt.style.library['bmh']\n",
        "# 스타일 컬러를 쉽게 쓸 수 있도록 리스트 저장\n",
        "style_colors = [ c['color'] for c in style['axes.prop_cycle'] ]\n",
        "\n",
        "# 그림을 컬러로 출력하고 싶으면 True로 수정\n",
        "g_color = False\n",
        "\n",
        "# 그림을 로컬 폴더에 저장하고 싶으면 True로 수정\n",
        "file_print = False"
      ]
    },
    {
      "cell_type": "code",
      "source": [
        "\n",
        "# D1은 앞서 예제로 들었던 최초 점 6개짜리 데이터\n",
        "# D2는 D1에 제일 왼쪽점 하나가 더 추가된 데이터\n",
        "D1 = np.array([[1.0, 1.2, 3, 4, 5, 6], [1.7, 3, 2.3, 5.3, 3.8, 5.5]])\n",
        "D2 = np.array([[-0.6, 1.0, 1.2, 3, 4, 5, 6], [2.9, 1.7, 3, 2.3, 5.3, 3.8, 5.5]])"
      ],
      "metadata": {
        "id": "1Y3BbHFLy3zW"
      },
      "execution_count": null,
      "outputs": []
    },
    {
      "cell_type": "code",
      "source": [
        "fig, (ax1, ax2) = plt.subplots(1, 2, sharex=True, sharey=True)\n",
        "fig.set_size_inches((15,6))\n",
        "\n",
        "ax1.xaxis.set_tick_params(labelsize=18)\n",
        "ax1.yaxis.set_tick_params(labelsize=18)\n",
        "ax1.set_xlabel('$x$', fontsize=25)\n",
        "ax1.set_ylabel('$y$', fontsize=25)\n",
        "ax1.grid(False)\n",
        "\n",
        "ax2.xaxis.set_tick_params(labelsize=18)\n",
        "ax2.yaxis.set_tick_params(labelsize=18)\n",
        "ax2.set_xlabel('$x$', fontsize=25)\n",
        "ax2.set_ylabel('$y$', fontsize=25)\n",
        "ax2.grid(False)\n",
        "\n",
        "ax1.plot(D1[0], D1[1], 'ko', markersize=10)\n",
        "ax1.set_xlim([-1,7])\n",
        "ax1.set_ylim([1,6])\n",
        "ax1.set_title('D1', fontsize=18)\n",
        "\n",
        "ax2.plot(D2[0], D2[1], 'ko', markersize=10)\n",
        "ax2.set_xlim([-1,7])\n",
        "ax2.set_ylim([1,6])\n",
        "ax2.set_title('D2', fontsize=18)\n",
        "\n",
        "\n",
        "plt.show()"
      ],
      "metadata": {
        "id": "OlIXDJ_rzV-S"
      },
      "execution_count": null,
      "outputs": []
    },
    {
      "cell_type": "code",
      "source": [
        "def machine_learning(D):\n",
        "      N = D.shape[1]\n",
        "      X = np.c_[np.ones(N), D[0]]\n",
        "      Y = D[1]\n",
        "\n",
        "      w = np.linalg.solve(np.dot(X.T,X), np.dot(X.T,Y))\n",
        "      return w\n",
        "\n",
        "def more_clever(D):\n",
        "      first, last = D [:,0], D[:,-1]\n",
        "      w1 = (last[1]-first[1]) / (last[0]-first[0])\n",
        "      w0 = -w1 * first[0] + first[1]\n",
        "      return (w0,w1)\n",
        "\n",
        "def f(x,w):\n",
        "    return w[1] * x + w[0]"
      ],
      "metadata": {
        "id": "Mgy7AAOvHdf5"
      },
      "execution_count": null,
      "outputs": []
    }
  ]
}